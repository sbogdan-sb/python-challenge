{
 "cells": [
  {
   "cell_type": "code",
   "execution_count": 7,
   "metadata": {},
   "outputs": [],
   "source": [
    "#create a uniq function"
   ]
  },
  {
   "cell_type": "code",
   "execution_count": 8,
   "metadata": {},
   "outputs": [],
   "source": [
    "import os\n",
    "import csv"
   ]
  },
  {
   "cell_type": "code",
   "execution_count": 23,
   "metadata": {},
   "outputs": [
    {
     "name": "stdout",
     "output_type": "stream",
     "text": [
      ".\\budget_data.csv\n",
      "Date\n",
      "Jan-2010\n",
      "Feb-2010\n",
      "Mar-2010\n",
      "Apr-2010\n",
      "May-2010\n",
      "Jun-2010\n",
      "Jul-2010\n",
      "Aug-2010\n",
      "Sep-2010\n",
      "Oct-2010\n",
      "Nov-2010\n",
      "Dec-2010\n",
      "Jan-2011\n",
      "Feb-2011\n",
      "Mar-2011\n",
      "Apr-2011\n",
      "May-2011\n",
      "Jun-2011\n",
      "Jul-2011\n",
      "Aug-2011\n",
      "Sep-2011\n",
      "Oct-2011\n",
      "Nov-2011\n",
      "Dec-2011\n",
      "Jan-2012\n",
      "Feb-2012\n",
      "Mar-2012\n",
      "Apr-2012\n",
      "May-2012\n",
      "Jun-2012\n",
      "Jul-2012\n",
      "Aug-2012\n",
      "Sep-2012\n",
      "Oct-2012\n",
      "Nov-2012\n",
      "Dec-2012\n",
      "Jan-2013\n",
      "Feb-2013\n",
      "Mar-2013\n",
      "Apr-2013\n",
      "May-2013\n",
      "Jun-2013\n",
      "Jul-2013\n",
      "Aug-2013\n",
      "Sep-2013\n",
      "Oct-2013\n",
      "Nov-2013\n",
      "Dec-2013\n",
      "Jan-2014\n",
      "Feb-2014\n",
      "Mar-2014\n",
      "Apr-2014\n",
      "May-2014\n",
      "Jun-2014\n",
      "Jul-2014\n",
      "Aug-2014\n",
      "Sep-2014\n",
      "Oct-2014\n",
      "Nov-2014\n",
      "Dec-2014\n",
      "Jan-2015\n",
      "Feb-2015\n",
      "Mar-2015\n",
      "Apr-2015\n",
      "May-2015\n",
      "Jun-2015\n",
      "Jul-2015\n",
      "Aug-2015\n",
      "Sep-2015\n",
      "Oct-2015\n",
      "Nov-2015\n",
      "Dec-2015\n",
      "Jan-2016\n",
      "Feb-2016\n",
      "Mar-2016\n",
      "Apr-2016\n",
      "May-2016\n",
      "Jun-2016\n",
      "Jul-2016\n",
      "Aug-2016\n",
      "Sep-2016\n",
      "Oct-2016\n",
      "Nov-2016\n",
      "Dec-2016\n",
      "Jan-2017\n",
      "Feb-2017\n"
     ]
    }
   ],
   "source": [
    "filename = \"budget_data.csv\"\n",
    "path = os.path.join(\".\", filename)\n",
    "\n",
    "print(path)\n",
    "\n",
    "with open(path, 'r', newline='', encoding=\"utf8\") as budgetfile:\n",
    "    \n",
    "    reader = csv.reader(budgetfile, delimiter = ',')\n",
    "    for row in reader:\n",
    "        print(row[0])"
   ]
  }
 ],
 "metadata": {
  "kernelspec": {
   "display_name": "Python 3",
   "language": "python",
   "name": "python3"
  },
  "language_info": {
   "codemirror_mode": {
    "name": "ipython",
    "version": 3
   },
   "file_extension": ".py",
   "mimetype": "text/x-python",
   "name": "python",
   "nbconvert_exporter": "python",
   "pygments_lexer": "ipython3",
   "version": "3.7.1"
  }
 },
 "nbformat": 4,
 "nbformat_minor": 2
}
