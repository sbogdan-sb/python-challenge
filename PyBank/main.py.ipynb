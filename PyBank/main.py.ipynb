{
 "cells": [
  {
   "cell_type": "code",
   "execution_count": null,
   "metadata": {},
   "outputs": [],
   "source": [
    "#The total number of months included in the dataset\n",
    "#The net total amount of \"Profit/Losses\" over the entire period\n",
    "#The average of the changes in \"Profit/Losses\" over the entire period\n",
    "#The greatest increase in profits (date and amount) over the entire period\n",
    "#The greatest decrease in losses (date and amount) over the entire period"
   ]
  },
  {
   "cell_type": "code",
   "execution_count": null,
   "metadata": {},
   "outputs": [],
   "source": [
    "'''Financial Analysis\n",
    "  ----------------------------\n",
    "  Total Months: 86\n",
    "  Total: $38382578\n",
    "  Average  Change: $-2315.12\n",
    "  Greatest Increase in Profits: Feb-2012 ($1926159)\n",
    "  Greatest Decrease in Profits: Sep-2013 ($-2196167)'''\n"
   ]
  },
  {
   "cell_type": "code",
   "execution_count": null,
   "metadata": {},
   "outputs": [],
   "source": [
    "'''create a uniq function'''"
   ]
  },
  {
   "cell_type": "code",
   "execution_count": 26,
   "metadata": {},
   "outputs": [],
   "source": [
    "import os\n",
    "import csv\n",
    "\n",
    "date = []\n",
    "profit_loss = []\n",
    "total_months = 0\n",
    "total_amount = 0\n",
    "average_monthly_change = 0\n",
    "greatest_increase_amount = 0\n",
    "greatest_decrease_amount = 0\n",
    "greatest_increase_month = \"\"\n",
    "greatest_decrease_month = \"\""
   ]
  },
  {
   "cell_type": "code",
   "execution_count": 27,
   "metadata": {},
   "outputs": [
    {
     "name": "stdout",
     "output_type": "stream",
     "text": [
      "total amount = 38382578\n",
      "446309.0465116279\n",
      "greatest profit = 1170593 in month Feb-2012\n",
      "greatest loss = -1196225 in month Sep-2013\n"
     ]
    }
   ],
   "source": [
    "filename = \"budget_data.csv\"\n",
    "path = os.path.join(\".\", filename)\n",
    "\n",
    "with open(path, 'r', newline='', encoding=\"utf8\") as budgetfile:\n",
    "    \n",
    "    reader = csv.reader(budgetfile, delimiter = ',')\n",
    "    for row in reader:\n",
    "        date.append(row[0])\n",
    "        profit_loss.append(row[1])\n",
    "    \n",
    "    date.remove('Date')\n",
    "    profit_loss.remove('Profit/Losses')\n",
    "    \n",
    "    total_months = len(date)\n",
    "    \n",
    "    for monthly_amount in profit_loss:\n",
    "        total_amount += int(monthly_amount)\n",
    "   \n",
    "    print(f\"total amount = {total_amount}\")\n",
    "    \n",
    "    average_monthly_change = total_amount / total_months\n",
    "    \n",
    "    print(average_monthly_change)\n",
    "    \n",
    "    for i in range (len(profit_loss)):\n",
    "        if int(profit_loss[i]) > greatest_increase_amount:\n",
    "            greatest_increase_amount = int(profit_loss[i])\n",
    "            greatest_increase_month = date[i]\n",
    "            \n",
    "        if int(profit_loss[i]) < greatest_decrease_amount:\n",
    "            greatest_decrease_amount = int(profit_loss[i])\n",
    "            greatest_decrease_month = date[i]\n",
    "            \n",
    "    print(f\"greatest profit = {greatest_increase_amount} in month {greatest_increase_month}\")\n",
    "    print(f\"greatest loss = {greatest_decrease_amount} in month {greatest_decrease_month}\")\n",
    "        \n",
    "    \n"
   ]
  }
 ],
 "metadata": {
  "kernelspec": {
   "display_name": "Python 3",
   "language": "python",
   "name": "python3"
  },
  "language_info": {
   "codemirror_mode": {
    "name": "ipython",
    "version": 3
   },
   "file_extension": ".py",
   "mimetype": "text/x-python",
   "name": "python",
   "nbconvert_exporter": "python",
   "pygments_lexer": "ipython3",
   "version": "3.7.1"
  }
 },
 "nbformat": 4,
 "nbformat_minor": 2
}
