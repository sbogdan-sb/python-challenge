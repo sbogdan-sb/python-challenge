{
 "cells": [
  {
   "cell_type": "code",
   "execution_count": 90,
   "metadata": {},
   "outputs": [
    {
     "name": "stdout",
     "output_type": "stream",
     "text": [
      "Financial Analysis\n",
      "----------------------------\n",
      "Total Months: 86\n",
      "Total: $38,382,578.00\n",
      "Average change: $446,309.05\n",
      "Greatest Increase in Profits: Feb-2012 ($1,170,593.00)\n",
      "Greatest Decrease in Profits: Sep-2013 (-$1,196,225.00)\n"
     ]
    }
   ],
   "source": [
    "import pandas as pd\n",
    "import locale\n",
    "\n",
    "#Doing this so currency format can be used for output\n",
    "locale.setlocale(locale.LC_ALL, 'English_United States.1252')\n",
    "locale._override_localeconv = {'n_sign_posn':1}\n",
    "\n",
    "total_months = 0                   #Number of months of data in input file\n",
    "total_amount = 0                   #Total amount of Profit/Loss over time \n",
    "average_monthly_change = 0         #Average monthly change\n",
    "greatest_increase_amount = 0       #Amount of greatest monthly profit\n",
    "greatest_decrease_amount = 0       #Month greatest monthly profit occurred\n",
    "greatest_increase_month = \"\"       #Amount of greates monthly loss\n",
    "greatest_decrease_month = \"\"       #Month greatest monthly loss occurred\n",
    "\n",
    "filename = \"budget_data.csv\"\n",
    "\n",
    "#Create data frame with columns month and profit/loss amounts\n",
    "df = pd.read_csv(filename)\n",
    "\n",
    "#Find total number of months data is recorded for, total amount of profit loss\n",
    "#over the time period, and the average of the monthly changes\n",
    "total_months = df[\"Date\"].count()\n",
    "total_amount = df[\"Profit/Losses\"].sum()\n",
    "average_monthly_change = df[\"Profit/Losses\"].mean()\n",
    "\n",
    "#Find the largest monthly profit and the month it occurred\n",
    "df_search = df.loc[df[\"Profit/Losses\"] == df[\"Profit/Losses\"].max()]\n",
    "greatest_increase_month = df_search[\"Date\"].values[0]\n",
    "greatest_increase_amount = df_search[\"Profit/Losses\"].values[0]\n",
    "\n",
    "#Find the largest monthly loss and the month it occurred\n",
    "df_search = df.loc[df[\"Profit/Losses\"] == df[\"Profit/Losses\"].min()]\n",
    "greatest_decrease_month = df_search[\"Date\"].values[0]\n",
    "greatest_decrease_amount = df_search[\"Profit/Losses\"].values[0]\n",
    "\n",
    "\n",
    "#Output results to Out\n",
    "print(\"Financial Analysis\")\n",
    "print(\"----------------------------\")\n",
    "print(f\"Total Months: {total_months}\")\n",
    "print(f\"Total: {locale.currency(total_amount, grouping = True)}\")\n",
    "print(f\"Average change: {locale.currency(average_monthly_change, grouping = True)}\")    \n",
    "print(f\"Greatest Increase in Profits: {greatest_increase_month} ({locale.currency(greatest_increase_amount, grouping = True)})\")\n",
    "print(f\"Greatest Decrease in Profits: {greatest_decrease_month} ({locale.currency(greatest_decrease_amount, grouping = True)})\")\n",
    "\n",
    "\n",
    "#Output results to file\n",
    "result_file = open(\"results.txt\", \"w\")\n",
    "\n",
    "result_file.write(\"Financial Analysis\\n\")\n",
    "result_file.write(\"----------------------------\\n\")\n",
    "result_file.write(f\"Total Months: {total_months}\\n\")\n",
    "result_file.write(f\"Total: {locale.currency(total_amount, grouping = True)}\\n\")\n",
    "result_file.write(f\"Average change: {locale.currency(average_monthly_change, grouping = True)}\\n\")\n",
    "result_file.write(f\"Greatest Increase in Profits: {greatest_increase_month} ({locale.currency(greatest_increase_amount, grouping = True)})\\n\")\n",
    "result_file.write(f\"Greatest Decrease in Profits: {greatest_decrease_month} ({locale.currency(greatest_decrease_amount, grouping = True)})\\n\")\n",
    "result_file.close()"
   ]
  }
 ],
 "metadata": {
  "kernelspec": {
   "display_name": "Python 3",
   "language": "python",
   "name": "python3"
  },
  "language_info": {
   "codemirror_mode": {
    "name": "ipython",
    "version": 3
   },
   "file_extension": ".py",
   "mimetype": "text/x-python",
   "name": "python",
   "nbconvert_exporter": "python",
   "pygments_lexer": "ipython3",
   "version": "3.7.1"
  }
 },
 "nbformat": 4,
 "nbformat_minor": 2
}
