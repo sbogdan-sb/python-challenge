{
 "cells": [
  {
   "cell_type": "code",
   "execution_count": 69,
   "metadata": {
    "collapsed": true
   },
   "outputs": [
    {
     "name": "stdout",
     "output_type": "stream",
     "text": [
      "Financial Analysis\n",
      "----------------------------\n",
      "Total Months: 86\n",
      "Total: $38,382,578.00\n",
      "Average change: $446,309.05\n",
      "Greatest Increase in Profits: Feb-2012 ($1,170,593.00)\n",
      "Greatest Decrease in Profits: Sep-2013 (-$1,196,225.00)\n"
     ]
    }
   ],
   "source": [
    "import os\n",
    "import csv\n",
    "import locale\n",
    "\n",
    "locale.setlocale(locale.LC_ALL, 'English_United States.1252')\n",
    "locale._override_localeconv = {'n_sign_posn':1}\n",
    "\n",
    "date = []\n",
    "profit_loss = []\n",
    "total_months = 0\n",
    "total_amount = 0\n",
    "average_monthly_change = 0\n",
    "greatest_increase_amount = 0\n",
    "greatest_decrease_amount = 0\n",
    "greatest_increase_month = \"\"\n",
    "greatest_decrease_month = \"\"\n",
    "\n",
    "filename = \"budget_data.csv\"\n",
    "path = os.path.join(\".\", filename)\n",
    "\n",
    "with open(path, 'r', newline='', encoding=\"utf8\") as budgetfile:\n",
    "    \n",
    "    reader = csv.reader(budgetfile, delimiter = ',')\n",
    "    for row in reader:\n",
    "        date.append(row[0])\n",
    "        profit_loss.append(row[1])\n",
    "    \n",
    "date.remove('Date')\n",
    "profit_loss.remove('Profit/Losses')\n",
    "    \n",
    "total_months = len(date)\n",
    "        \n",
    "for monthly_amount in profit_loss:\n",
    "    total_amount += int(monthly_amount)\n",
    "\n",
    "average_monthly_change = total_amount / total_months\n",
    "     \n",
    "for i in range (len(profit_loss)):\n",
    "    if int(profit_loss[i]) > greatest_increase_amount:\n",
    "        greatest_increase_amount = int(profit_loss[i])\n",
    "        greatest_increase_month = date[i]\n",
    "            \n",
    "    if int(profit_loss[i]) < greatest_decrease_amount:\n",
    "        greatest_decrease_amount = int(profit_loss[i])\n",
    "        greatest_decrease_month = date[i]\n",
    "    \n",
    "print(\"Financial Analysis\")\n",
    "print(\"----------------------------\")\n",
    "print(f\"Total Months: {total_months}\")\n",
    "print(f\"Total: {locale.currency(total_amount, grouping = True)}\")\n",
    "print(f\"Average change: {locale.currency(average_monthly_change, grouping = True)}\")    \n",
    "print(f\"Greatest Increase in Profits: {greatest_increase_month} ({locale.currency(greatest_increase_amount, grouping = True)})\")\n",
    "print(f\"Greatest Decrease in Profits: {greatest_decrease_month} ({locale.currency(greatest_decrease_amount, grouping = True)})\")\n",
    "\n",
    "result_file = open(\"results.txt\", \"w\")\n",
    "\n",
    "result_file.write(\"Financial Analysis\\n\")\n",
    "result_file.write(\"----------------------------\\n\")\n",
    "result_file.write(f\"Total Months: {total_months}\\n\")\n",
    "result_file.write(f\"Total: {locale.currency(total_amount, grouping = True)}\\n\")\n",
    "result_file.write(f\"Average change: {locale.currency(average_monthly_change, grouping = True)}\\n\")\n",
    "result_file.write(f\"Greatest Increase in Profits: {greatest_increase_month} ({locale.currency(greatest_increase_amount, grouping = True)})\\n\")\n",
    "result_file.write(f\"Greatest Decrease in Profits: {greatest_decrease_month} ({locale.currency(greatest_decrease_amount, grouping = True)})\\n\")\n",
    "result_file.close()"
   ]
  }
 ],
 "metadata": {
  "kernelspec": {
   "display_name": "Python 3",
   "language": "python",
   "name": "python3"
  },
  "language_info": {
   "codemirror_mode": {
    "name": "ipython",
    "version": 3
   },
   "file_extension": ".py",
   "mimetype": "text/x-python",
   "name": "python",
   "nbconvert_exporter": "python",
   "pygments_lexer": "ipython3",
   "version": "3.7.1"
  }
 },
 "nbformat": 4,
 "nbformat_minor": 2
}
