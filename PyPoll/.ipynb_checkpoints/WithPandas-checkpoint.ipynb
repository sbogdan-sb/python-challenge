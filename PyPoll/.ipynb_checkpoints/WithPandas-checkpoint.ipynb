{
 "cells": [
  {
   "cell_type": "code",
   "execution_count": 103,
   "metadata": {
    "scrolled": true
   },
   "outputs": [
    {
     "name": "stdout",
     "output_type": "stream",
     "text": [
      "Election Results\n",
      "--------------------------\n",
      "Total Votes:  248\n",
      "Khan:  66.935%  (166)\n",
      "Correy:  19.758%  (49)\n",
      "Li:  12.097%  (30)\n",
      "O'Tooley:  1.210%  (3)\n",
      "--------------------------\n",
      "Winner: Khan\n",
      "--------------------------\n"
     ]
    }
   ],
   "source": [
    "import pandas as pd\n",
    "\n",
    "filename = \"election_data.csv\"\n",
    "filename = \"test_file.csv\"\n",
    "\n",
    "df = pd.read_csv(filename)\n",
    "\n",
    "total_votes = df[\"Candidate\"].count()\n",
    "vote_tallys = df[\"Candidate\"].value_counts()\n",
    "winner = [candidate for candidate, votes in vote_tallys.items() if votes == max(vote_tallys.values)][0]\n",
    "\n",
    "print(\"Election Results\")\n",
    "print(\"--------------------------\")\n",
    "print(f\"Total Votes:  {total_votes}\")\n",
    "\n",
    "for candidate, votes in  vote_tallys.items():\n",
    "    vote_percentage = votes/total_votes\n",
    "    print(\"{0}:  {1:.3%}  ({2})\".format(candidate, vote_percentage, votes))\n",
    "\n",
    "print(\"--------------------------\")\n",
    "print(f\"Winner: {winner}\")\n",
    "print(\"--------------------------\")\n",
    "\n",
    "\n",
    "result_file = open(\"results.txt\", \"w\")\n",
    "\n",
    "result_file.write(\"Election Results\\n\")\n",
    "result_file.write(f\"Total Votes:  {total_votes}\\n\")\n",
    "result_file.write(\"--------------------------\\n\")\n",
    "\n",
    "for candidate, votes in  vote_tallys.items():\n",
    "    vote_percentage = votes/total_votes\n",
    "    result_file.write(\"{0}:  {1:.3%}  ({2})\\n\".format(candidate, vote_percentage, votes))\n",
    "    \n",
    "result_file.write(\"--------------------------\\n\")\n",
    "result_file.write(f\"Winner: {winner}\\n\")\n",
    "result_file.write(\"--------------------------\\n\")\n",
    "result_file.close()"
   ]
  }
 ],
 "metadata": {
  "kernelspec": {
   "display_name": "Python 3",
   "language": "python",
   "name": "python3"
  },
  "language_info": {
   "codemirror_mode": {
    "name": "ipython",
    "version": 3
   },
   "file_extension": ".py",
   "mimetype": "text/x-python",
   "name": "python",
   "nbconvert_exporter": "python",
   "pygments_lexer": "ipython3",
   "version": "3.7.1"
  }
 },
 "nbformat": 4,
 "nbformat_minor": 2
}
