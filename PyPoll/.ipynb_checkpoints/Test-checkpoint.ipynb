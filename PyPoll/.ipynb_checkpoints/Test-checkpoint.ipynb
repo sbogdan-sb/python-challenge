{
 "cells": [
  {
   "cell_type": "code",
   "execution_count": 93,
   "metadata": {
    "scrolled": true
   },
   "outputs": [
    {
     "name": "stdout",
     "output_type": "stream",
     "text": [
      "Khan        166\n",
      "Correy       49\n",
      "Li           30\n",
      "O'Tooley      3\n",
      "Name: Candidate, dtype: int64\n",
      "Khan\n"
     ]
    }
   ],
   "source": [
    "import pandas as pd\n",
    "\n",
    "filename = \"election_data.csv\"\n",
    "filename = \"test_file.csv\"\n",
    "df = pd.read_csv(filename)\n",
    "\n",
    "vote_tallys =df[\"Candidate\"].value_counts()\n",
    "print(vote_tallys)\n",
    "\n",
    "\n",
    "print(vote_tallys.sort_values(ascending = False).first_valid_index())\n"
   ]
  }
 ],
 "metadata": {
  "kernelspec": {
   "display_name": "Python 3",
   "language": "python",
   "name": "python3"
  },
  "language_info": {
   "codemirror_mode": {
    "name": "ipython",
    "version": 3
   },
   "file_extension": ".py",
   "mimetype": "text/x-python",
   "name": "python",
   "nbconvert_exporter": "python",
   "pygments_lexer": "ipython3",
   "version": "3.7.1"
  }
 },
 "nbformat": 4,
 "nbformat_minor": 2
}
