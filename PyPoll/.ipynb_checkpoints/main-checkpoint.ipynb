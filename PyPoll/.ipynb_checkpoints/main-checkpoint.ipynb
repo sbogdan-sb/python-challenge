{
 "cells": [
  {
   "cell_type": "code",
   "execution_count": 130,
   "metadata": {
    "scrolled": true
   },
   "outputs": [
    {
     "name": "stdout",
     "output_type": "stream",
     "text": [
      "Election Results\n",
      "--------------------------\n",
      "Total Votes:  3521001\n",
      "Khan:  63.000%  (2218231)\n",
      "Correy:  20.000%  (704200)\n",
      "Li:  14.000%  (492940)\n",
      "O'Tooley:  3.000%  (105630)\n",
      "--------------------------\n",
      "Winner: Khan\n",
      "--------------------------\n"
     ]
    }
   ],
   "source": [
    "import pandas as pd\n",
    "\n",
    "filename = \"election_data.csv\"\n",
    "df = pd.read_csv(filename)\n",
    "                        \n",
    "vote_tallys = []                 #Series to hold vote count for each candidate\n",
    "total_votes = 0                  #Count of total votes for all candidates\n",
    "vote_percentage = 0              #Holds calculated percentage of total vote each candidate received\n",
    "winner = \"\"                      #Name of winning candidate \n",
    "\n",
    "#Create dataframe from csv file and create a series of candidate names and their vote count\n",
    "vote_tallys = df[\"Candidate\"].value_counts()\n",
    "total_votes = vote_tallys.sum()\n",
    "\n",
    "#Determine winner - both of these methods work\n",
    "winner = [candidate for candidate, votes in vote_tallys.items() if votes == max(vote_tallys.values)][0]\n",
    "winner = vote_tallys.sort_values(ascending = False).first_valid_index()\n",
    "\n",
    "#Print results to Out\n",
    "print(\"Election Results\")\n",
    "print(\"--------------------------\")\n",
    "print(f\"Total Votes:  {total_votes}\")\n",
    "\n",
    "for candidate, votes in  vote_tallys.items():\n",
    "    vote_percentage = votes/total_votes\n",
    "    print(\"{0}:  {1:.3%}  ({2})\".format(candidate, vote_percentage, votes))\n",
    "\n",
    "print(\"--------------------------\")\n",
    "print(f\"Winner: {winner}\")\n",
    "print(\"--------------------------\")\n",
    "\n",
    "#Print results to file\n",
    "result_file = open(\"results.txt\", \"w\")\n",
    "\n",
    "result_file.write(\"Election Results\\n\")\n",
    "result_file.write(f\"Total Votes:  {total_votes}\\n\")\n",
    "result_file.write(\"--------------------------\\n\")\n",
    "\n",
    "for candidate, votes in  vote_tallys.items():\n",
    "    vote_percentage = votes/total_votes\n",
    "    result_file.write(\"{0}:  {1:.3%}  ({2})\\n\".format(candidate, vote_percentage, votes))\n",
    "    \n",
    "result_file.write(\"--------------------------\\n\")\n",
    "result_file.write(f\"Winner: {winner}\\n\")\n",
    "result_file.write(\"--------------------------\\n\")\n",
    "result_file.close()"
   ]
  }
 ],
 "metadata": {
  "kernelspec": {
   "display_name": "Python 3",
   "language": "python",
   "name": "python3"
  },
  "language_info": {
   "codemirror_mode": {
    "name": "ipython",
    "version": 3
   },
   "file_extension": ".py",
   "mimetype": "text/x-python",
   "name": "python",
   "nbconvert_exporter": "python",
   "pygments_lexer": "ipython3",
   "version": "3.7.1"
  }
 },
 "nbformat": 4,
 "nbformat_minor": 2
}
