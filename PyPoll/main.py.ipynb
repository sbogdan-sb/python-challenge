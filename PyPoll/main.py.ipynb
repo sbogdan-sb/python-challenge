{
 "cells": [
  {
   "cell_type": "code",
   "execution_count": null,
   "metadata": {},
   "outputs": [],
   "source": [
    "'''The total number of votes cast\n",
    "A complete list of candidates who received votes\n",
    "The percentage of votes each candidate won\n",
    "The total number of votes each candidate won\n",
    "The winner of the election based on popular vote.\n",
    "\n",
    "As an example, your analysis should look similar to the one below:\n",
    "\n",
    "  Election Results\n",
    "  -------------------------\n",
    "  Total Votes: 3521001\n",
    "  -------------------------\n",
    "  Khan: 63.000% (2218231)\n",
    "  Correy: 20.000% (704200)``\n",
    "  Li: 14.000% (492940)\n",
    "  O'Tooley: 3.000% (105630)\n",
    "  -------------------------\n",
    "  Winner: Khan\n",
    "  -------------------------'''"
   ]
  },
  {
   "cell_type": "code",
   "execution_count": 41,
   "metadata": {},
   "outputs": [
    {
     "name": "stdout",
     "output_type": "stream",
     "text": [
      "Election Results\n",
      "--------------------------\n",
      "Total Votes:  0\n",
      "--------------------------\n",
      "0.6300001050837531\n",
      "Khan:  63.00001%   (2218231)\n",
      "0.19999994319797126\n",
      "Correy:  19.99999%   (704200)\n",
      "0.13999996023857988\n",
      "Li:  14.00000%   (492940)\n",
      "0.02999999147969569\n",
      "O'Tooley:  3.00000%   (105630)\n",
      "--------------------------\n",
      "Winner: Khan\n",
      "--------------------------\n"
     ]
    }
   ],
   "source": [
    "import os\n",
    "import csv\n",
    "from collections import Counter\n",
    "\n",
    "vote_counts = {}\n",
    "votes = []\n",
    "total_votes = 0\n",
    "\n",
    "filename = \"election_data.csv\"\n",
    "# filename = \"test_file.csv\"\n",
    "path = os.path.join(\".\", filename)\n",
    "\n",
    "with open(path, 'r', newline='', encoding=\"utf8\") as electiondata:\n",
    "    \n",
    "    reader = csv.reader(electiondata, delimiter = ',')\n",
    "    for row in reader:\n",
    "        votes.append(row[2])\n",
    "        \n",
    "votes.remove('Candidate')\n",
    "total_votes = len(votes)\n",
    "\n",
    "# for vote in votes:\n",
    "#     if vote in vote_counts.keys():\n",
    "#         vote_counts[vote] += 1\n",
    "#     else:\n",
    "#         vote_counts[vote] = 1\n",
    "\n",
    "vote_counts = Counter(votes)\n",
    "        \n",
    "winner = [candidate for candidate, votes in vote_counts.items() if votes == max(vote_counts.values())][0]\n",
    "\n",
    "print(\"Election Results\")\n",
    "print(\"--------------------------\")\n",
    "print(f\"Total Votes:  {count}\")\n",
    "print(\"--------------------------\")\n",
    "\n",
    "for candidate in vote_counts:\n",
    "    vote_percentage = vote_counts[candidate]/total_votes\n",
    "    print(\"{0}:  {1:.3%}   ({2})\".format(candidate, vote_percentage , vote_counts[candidate]))\n",
    "    \n",
    "print(\"--------------------------\")\n",
    "print(f\"Winner: {winner}\")\n",
    "print(\"--------------------------\")\n"
   ]
  }
 ],
 "metadata": {
  "kernelspec": {
   "display_name": "Python 3",
   "language": "python",
   "name": "python3"
  },
  "language_info": {
   "codemirror_mode": {
    "name": "ipython",
    "version": 3
   },
   "file_extension": ".py",
   "mimetype": "text/x-python",
   "name": "python",
   "nbconvert_exporter": "python",
   "pygments_lexer": "ipython3",
   "version": "3.7.1"
  }
 },
 "nbformat": 4,
 "nbformat_minor": 2
}
