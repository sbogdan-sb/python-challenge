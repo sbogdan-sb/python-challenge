{
 "cells": [
  {
   "cell_type": "code",
   "execution_count": null,
   "metadata": {},
   "outputs": [],
   "source": [
    "'''The total number of votes cast\n",
    "A complete list of candidates who received votes\n",
    "The percentage of votes each candidate won\n",
    "The total number of votes each candidate won\n",
    "The winner of the election based on popular vote.\n",
    "\n",
    "As an example, your analysis should look similar to the one below:\n",
    "\n",
    "  Election Results\n",
    "  -------------------------\n",
    "  Total Votes: 3521001\n",
    "  -------------------------\n",
    "  Khan: 63.000% (2218231)\n",
    "  Correy: 20.000% (704200)``\n",
    "  Li: 14.000% (492940)\n",
    "  O'Tooley: 3.000% (105630)\n",
    "  -------------------------\n",
    "  Winner: Khan\n",
    "  -------------------------'''"
   ]
  },
  {
   "cell_type": "code",
   "execution_count": 1,
   "metadata": {},
   "outputs": [
    {
     "data": {
      "text/plain": [
       "'if \\'can3\\' in vote_counts.keys():\\n    print(\"found it\")\\nelse:\\n    print(\"not found\")\\n    \\nvote_counts[\"can3\"] = vote_counts[\"can1\"] + 4\\nprint(vote_counts[\"can3\"])\\nprint(vote_counts)'"
      ]
     },
     "execution_count": 1,
     "metadata": {},
     "output_type": "execute_result"
    }
   ],
   "source": [
    "import os\n",
    "import csv\n",
    "\n",
    "votes = []\n",
    "vote_counts = {\"can1\":0, \"can2\":1}\n",
    "\n",
    "'''if 'can3' in vote_counts.keys():\n",
    "    print(\"found it\")\n",
    "else:\n",
    "    print(\"not found\")\n",
    "    \n",
    "vote_counts[\"can3\"] = vote_counts[\"can1\"] + 4\n",
    "print(vote_counts[\"can3\"])\n",
    "print(vote_counts)'''\n"
   ]
  },
  {
   "cell_type": "code",
   "execution_count": null,
   "metadata": {},
   "outputs": [],
   "source": [
    "filename = \"election_data.csv\"\n",
    "path = os.path.join(\".\", filename)\n",
    "\n",
    "with open(path, 'r', newline='', encoding=\"utf8\") as electiondata:\n",
    "    \n",
    "    reader = csv.reader(electiondata, delimiter = ',')\n",
    "    for row in reader:\n",
    "        votes.append(row[2])\n",
    "        \n",
    "    \n",
    "    votes.remove('Candidate')\n",
    "    \n",
    "    for vote in votes:\n",
    "        #if vote in vote_counts.keys():\n",
    "            #vote_counts[vote] += 1\n",
    "        #else:\n",
    "            #vote_counts[vote] = 1\n",
    "        print(votes)\n",
    "    \n",
    "    #print(vote_counts)\n",
    "    "
   ]
  }
 ],
 "metadata": {
  "kernelspec": {
   "display_name": "Python 3",
   "language": "python",
   "name": "python3"
  },
  "language_info": {
   "codemirror_mode": {
    "name": "ipython",
    "version": 3
   },
   "file_extension": ".py",
   "mimetype": "text/x-python",
   "name": "python",
   "nbconvert_exporter": "python",
   "pygments_lexer": "ipython3",
   "version": "3.7.1"
  }
 },
 "nbformat": 4,
 "nbformat_minor": 2
}
